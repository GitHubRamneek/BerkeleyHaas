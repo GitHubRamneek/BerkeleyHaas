{
 "cells": [
  {
   "cell_type": "markdown",
   "metadata": {},
   "source": [
    "### Will a Customer Accept the Coupon?\n",
    "\n",
    "**Context**\n",
    "\n",
    "Imagine driving through town and a coupon is delivered to your cell phone for a restaraunt near where you are driving. Would you accept that coupon and take a short detour to the restaraunt? Would you accept the coupon but use it on a sunbsequent trip? Would you ignore the coupon entirely? What if the coupon was for a bar instead of a restaraunt? What about a coffee house? Would you accept a bar coupon with a minor passenger in the car? What about if it was just you and your partner in the car? Would weather impact the rate of acceptance? What about the time of day?\n",
    "\n",
    "Obviously, proximity to the business is a factor on whether the coupon is delivered to the driver or not, but what are the factors that determine whether a driver accepts the coupon once it is delivered to them? How would you determine whether a driver is likely to accept a coupon?\n",
    "\n",
    "**Overview**\n",
    "\n",
    "The goal of this project is to use what you know about visualizations and probability distributions to distinguish between customers who accepted a driving coupon versus those that did not.\n",
    "\n",
    "**Data**\n",
    "\n",
    "This data comes to us from the UCI Machine Learning repository and was collected via a survey on Amazon Mechanical Turk. The survey describes different driving scenarios including the destination, current time, weather, passenger, etc., and then ask the person whether he will accept the coupon if he is the driver. Answers that the user will drive there ‘right away’ or ‘later before the coupon expires’ are labeled as ‘Y = 1’ and answers ‘no, I do not want the coupon’ are labeled as ‘Y = 0’.  There are five different types of coupons -- less expensive restaurants (under \\\\$20), coffee houses, carry out & take away, bar, and more expensive restaurants (\\\\$20 - \\\\$50). "
   ]
  },
  {
   "cell_type": "markdown",
   "metadata": {},
   "source": [
    "**Deliverables**\n",
    "\n",
    "Your final product should be a brief report that highlights the differences between customers who did and did not accept the coupons.  To explore the data you will utilize your knowledge of plotting, statistical summaries, and visualization using Python. You will publish your findings in a public facing github repository as your first portfolio piece. \n",
    "\n",
    "\n",
    "\n"
   ]
  },
  {
   "cell_type": "markdown",
   "metadata": {},
   "source": [
    "### Data Description\n",
    "Keep in mind that these values mentioned below are average values.\n",
    "\n",
    "The attributes of this data set include:\n",
    "1. User attributes\n",
    "    -  Gender: male, female\n",
    "    -  Age: below 21, 21 to 25, 26 to 30, etc.\n",
    "    -  Marital Status: single, married partner, unmarried partner, or widowed\n",
    "    -  Number of children: 0, 1, or more than 1\n",
    "    -  Education: high school, bachelors degree, associates degree, or graduate degree\n",
    "    -  Occupation: architecture & engineering, business & financial, etc.\n",
    "    -  Annual income: less than \\\\$12500, \\\\$12500 - \\\\$24999, \\\\$25000 - \\\\$37499, etc.\n",
    "    -  Number of times that he/she goes to a bar: 0, less than 1, 1 to 3, 4 to 8 or greater than 8\n",
    "    -  Number of times that he/she buys takeaway food: 0, less than 1, 1 to 3, 4 to 8 or greater\n",
    "    than 8\n",
    "    -  Number of times that he/she goes to a coffee house: 0, less than 1, 1 to 3, 4 to 8 or\n",
    "    greater than 8\n",
    "    -  Number of times that he/she eats at a restaurant with average expense less than \\\\$20 per\n",
    "    person: 0, less than 1, 1 to 3, 4 to 8 or greater than 8\n",
    "    -  Number of times that he/she goes to a bar: 0, less than 1, 1 to 3, 4 to 8 or greater than 8\n",
    "    \n",
    "\n",
    "2. Contextual attributes\n",
    "    - Driving destination: home, work, or no urgent destination\n",
    "    - Location of user, coupon and destination: we provide a map to show the geographical\n",
    "    location of the user, destination, and the venue, and we mark the distance between each\n",
    "    two places with time of driving. The user can see whether the venue is in the same\n",
    "    direction as the destination.\n",
    "    - Weather: sunny, rainy, or snowy\n",
    "    - Temperature: 30F, 55F, or 80F\n",
    "    - Time: 10AM, 2PM, or 6PM\n",
    "    - Passenger: alone, partner, kid(s), or friend(s)\n",
    "\n",
    "\n",
    "3. Coupon attributes\n",
    "    - time before it expires: 2 hours or one day"
   ]
  },
  {
   "cell_type": "code",
   "execution_count": 1,
   "metadata": {},
   "outputs": [],
   "source": [
    "import matplotlib.pyplot as plt\n",
    "import seaborn as sns\n",
    "import pandas as pd\n",
    "import numpy as np"
   ]
  },
  {
   "cell_type": "markdown",
   "metadata": {},
   "source": [
    "### Problems\n",
    "\n",
    "Use the prompts below to get started with your data analysis.  \n",
    "\n",
    "1. Read in the `coupons.csv` file.\n",
    "\n",
    "\n"
   ]
  },
  {
   "cell_type": "code",
   "execution_count": 2,
   "metadata": {},
   "outputs": [],
   "source": [
    "data = pd.read_csv('data/coupons.csv')"
   ]
  },
  {
   "cell_type": "code",
   "execution_count": 3,
   "metadata": {},
   "outputs": [
    {
     "data": {
      "text/html": [
       "<div>\n",
       "<style scoped>\n",
       "    .dataframe tbody tr th:only-of-type {\n",
       "        vertical-align: middle;\n",
       "    }\n",
       "\n",
       "    .dataframe tbody tr th {\n",
       "        vertical-align: top;\n",
       "    }\n",
       "\n",
       "    .dataframe thead th {\n",
       "        text-align: right;\n",
       "    }\n",
       "</style>\n",
       "<table border=\"1\" class=\"dataframe\">\n",
       "  <thead>\n",
       "    <tr style=\"text-align: right;\">\n",
       "      <th></th>\n",
       "      <th>destination</th>\n",
       "      <th>passanger</th>\n",
       "      <th>weather</th>\n",
       "      <th>temperature</th>\n",
       "      <th>time</th>\n",
       "      <th>coupon</th>\n",
       "      <th>expiration</th>\n",
       "      <th>gender</th>\n",
       "      <th>age</th>\n",
       "      <th>maritalStatus</th>\n",
       "      <th>...</th>\n",
       "      <th>CoffeeHouse</th>\n",
       "      <th>CarryAway</th>\n",
       "      <th>RestaurantLessThan20</th>\n",
       "      <th>Restaurant20To50</th>\n",
       "      <th>toCoupon_GEQ5min</th>\n",
       "      <th>toCoupon_GEQ15min</th>\n",
       "      <th>toCoupon_GEQ25min</th>\n",
       "      <th>direction_same</th>\n",
       "      <th>direction_opp</th>\n",
       "      <th>Y</th>\n",
       "    </tr>\n",
       "  </thead>\n",
       "  <tbody>\n",
       "    <tr>\n",
       "      <th>0</th>\n",
       "      <td>No Urgent Place</td>\n",
       "      <td>Alone</td>\n",
       "      <td>Sunny</td>\n",
       "      <td>55</td>\n",
       "      <td>2PM</td>\n",
       "      <td>Restaurant(&lt;20)</td>\n",
       "      <td>1d</td>\n",
       "      <td>Female</td>\n",
       "      <td>21</td>\n",
       "      <td>Unmarried partner</td>\n",
       "      <td>...</td>\n",
       "      <td>never</td>\n",
       "      <td>NaN</td>\n",
       "      <td>4~8</td>\n",
       "      <td>1~3</td>\n",
       "      <td>1</td>\n",
       "      <td>0</td>\n",
       "      <td>0</td>\n",
       "      <td>0</td>\n",
       "      <td>1</td>\n",
       "      <td>1</td>\n",
       "    </tr>\n",
       "    <tr>\n",
       "      <th>1</th>\n",
       "      <td>No Urgent Place</td>\n",
       "      <td>Friend(s)</td>\n",
       "      <td>Sunny</td>\n",
       "      <td>80</td>\n",
       "      <td>10AM</td>\n",
       "      <td>Coffee House</td>\n",
       "      <td>2h</td>\n",
       "      <td>Female</td>\n",
       "      <td>21</td>\n",
       "      <td>Unmarried partner</td>\n",
       "      <td>...</td>\n",
       "      <td>never</td>\n",
       "      <td>NaN</td>\n",
       "      <td>4~8</td>\n",
       "      <td>1~3</td>\n",
       "      <td>1</td>\n",
       "      <td>0</td>\n",
       "      <td>0</td>\n",
       "      <td>0</td>\n",
       "      <td>1</td>\n",
       "      <td>0</td>\n",
       "    </tr>\n",
       "    <tr>\n",
       "      <th>2</th>\n",
       "      <td>No Urgent Place</td>\n",
       "      <td>Friend(s)</td>\n",
       "      <td>Sunny</td>\n",
       "      <td>80</td>\n",
       "      <td>10AM</td>\n",
       "      <td>Carry out &amp; Take away</td>\n",
       "      <td>2h</td>\n",
       "      <td>Female</td>\n",
       "      <td>21</td>\n",
       "      <td>Unmarried partner</td>\n",
       "      <td>...</td>\n",
       "      <td>never</td>\n",
       "      <td>NaN</td>\n",
       "      <td>4~8</td>\n",
       "      <td>1~3</td>\n",
       "      <td>1</td>\n",
       "      <td>1</td>\n",
       "      <td>0</td>\n",
       "      <td>0</td>\n",
       "      <td>1</td>\n",
       "      <td>1</td>\n",
       "    </tr>\n",
       "    <tr>\n",
       "      <th>3</th>\n",
       "      <td>No Urgent Place</td>\n",
       "      <td>Friend(s)</td>\n",
       "      <td>Sunny</td>\n",
       "      <td>80</td>\n",
       "      <td>2PM</td>\n",
       "      <td>Coffee House</td>\n",
       "      <td>2h</td>\n",
       "      <td>Female</td>\n",
       "      <td>21</td>\n",
       "      <td>Unmarried partner</td>\n",
       "      <td>...</td>\n",
       "      <td>never</td>\n",
       "      <td>NaN</td>\n",
       "      <td>4~8</td>\n",
       "      <td>1~3</td>\n",
       "      <td>1</td>\n",
       "      <td>1</td>\n",
       "      <td>0</td>\n",
       "      <td>0</td>\n",
       "      <td>1</td>\n",
       "      <td>0</td>\n",
       "    </tr>\n",
       "    <tr>\n",
       "      <th>4</th>\n",
       "      <td>No Urgent Place</td>\n",
       "      <td>Friend(s)</td>\n",
       "      <td>Sunny</td>\n",
       "      <td>80</td>\n",
       "      <td>2PM</td>\n",
       "      <td>Coffee House</td>\n",
       "      <td>1d</td>\n",
       "      <td>Female</td>\n",
       "      <td>21</td>\n",
       "      <td>Unmarried partner</td>\n",
       "      <td>...</td>\n",
       "      <td>never</td>\n",
       "      <td>NaN</td>\n",
       "      <td>4~8</td>\n",
       "      <td>1~3</td>\n",
       "      <td>1</td>\n",
       "      <td>1</td>\n",
       "      <td>0</td>\n",
       "      <td>0</td>\n",
       "      <td>1</td>\n",
       "      <td>0</td>\n",
       "    </tr>\n",
       "  </tbody>\n",
       "</table>\n",
       "<p>5 rows × 26 columns</p>\n",
       "</div>"
      ],
      "text/plain": [
       "       destination  passanger weather  temperature  time  \\\n",
       "0  No Urgent Place      Alone   Sunny           55   2PM   \n",
       "1  No Urgent Place  Friend(s)   Sunny           80  10AM   \n",
       "2  No Urgent Place  Friend(s)   Sunny           80  10AM   \n",
       "3  No Urgent Place  Friend(s)   Sunny           80   2PM   \n",
       "4  No Urgent Place  Friend(s)   Sunny           80   2PM   \n",
       "\n",
       "                  coupon expiration  gender age      maritalStatus  ...  \\\n",
       "0        Restaurant(<20)         1d  Female  21  Unmarried partner  ...   \n",
       "1           Coffee House         2h  Female  21  Unmarried partner  ...   \n",
       "2  Carry out & Take away         2h  Female  21  Unmarried partner  ...   \n",
       "3           Coffee House         2h  Female  21  Unmarried partner  ...   \n",
       "4           Coffee House         1d  Female  21  Unmarried partner  ...   \n",
       "\n",
       "   CoffeeHouse CarryAway RestaurantLessThan20 Restaurant20To50  \\\n",
       "0        never       NaN                  4~8              1~3   \n",
       "1        never       NaN                  4~8              1~3   \n",
       "2        never       NaN                  4~8              1~3   \n",
       "3        never       NaN                  4~8              1~3   \n",
       "4        never       NaN                  4~8              1~3   \n",
       "\n",
       "  toCoupon_GEQ5min toCoupon_GEQ15min toCoupon_GEQ25min direction_same  \\\n",
       "0                1                 0                 0              0   \n",
       "1                1                 0                 0              0   \n",
       "2                1                 1                 0              0   \n",
       "3                1                 1                 0              0   \n",
       "4                1                 1                 0              0   \n",
       "\n",
       "  direction_opp  Y  \n",
       "0             1  1  \n",
       "1             1  0  \n",
       "2             1  1  \n",
       "3             1  0  \n",
       "4             1  0  \n",
       "\n",
       "[5 rows x 26 columns]"
      ]
     },
     "execution_count": 3,
     "metadata": {},
     "output_type": "execute_result"
    }
   ],
   "source": [
    "data.head()"
   ]
  },
  {
   "cell_type": "markdown",
   "metadata": {},
   "source": [
    "2. Investigate the dataset for missing or problematic data."
   ]
  },
  {
   "cell_type": "code",
   "execution_count": 4,
   "metadata": {},
   "outputs": [
    {
     "name": "stdout",
     "output_type": "stream",
     "text": [
      "Missing values per column:\n",
      "destination                 0\n",
      "direction_same              0\n",
      "toCoupon_GEQ25min           0\n",
      "toCoupon_GEQ15min           0\n",
      "toCoupon_GEQ5min            0\n",
      "income                      0\n",
      "direction_opp               0\n",
      "education                   0\n",
      "has_children                0\n",
      "occupation                  0\n",
      "age                         0\n",
      "gender                      0\n",
      "expiration                  0\n",
      "coupon                      0\n",
      "time                        0\n",
      "temperature                 0\n",
      "weather                     0\n",
      "passanger                   0\n",
      "maritalStatus               0\n",
      "Y                           0\n",
      "Bar                       107\n",
      "RestaurantLessThan20      130\n",
      "CarryAway                 151\n",
      "Restaurant20To50          189\n",
      "CoffeeHouse               217\n",
      "car                     12576\n",
      "dtype: int64\n"
     ]
    }
   ],
   "source": [
    "# Check for missing values\n",
    "missing_values = data.isnull().sum().sort_values()\n",
    "print(\"Missing values per column:\")\n",
    "print(missing_values)"
   ]
  },
  {
   "cell_type": "markdown",
   "metadata": {},
   "source": [
    "3. Decide what to do about your missing data -- drop, replace, other..."
   ]
  },
  {
   "cell_type": "code",
   "execution_count": 5,
   "metadata": {},
   "outputs": [
    {
     "name": "stderr",
     "output_type": "stream",
     "text": [
      "C:\\Users\\ramne\\AppData\\Local\\Temp/ipykernel_11432/3953833359.py:6: FutureWarning: The default value of regex will change from True to False in a future version. In addition, single character regular expressions will *not* be treated as literal strings when regex=True.\n",
      "  data['coupon'] = data['coupon'].str.replace('(', '')\n",
      "C:\\Users\\ramne\\AppData\\Local\\Temp/ipykernel_11432/3953833359.py:7: FutureWarning: The default value of regex will change from True to False in a future version. In addition, single character regular expressions will *not* be treated as literal strings when regex=True.\n",
      "  data['coupon'] = data['coupon'].str.replace(')', '')\n",
      "C:\\Users\\ramne\\AppData\\Local\\Temp/ipykernel_11432/3953833359.py:31: FutureWarning: Dropping of nuisance columns in DataFrame reductions (with 'numeric_only=None') is deprecated; in a future version this will raise TypeError.  Select only valid columns before calling the reduction.\n",
      "  data.fillna(data.mean(), inplace=True)\n"
     ]
    }
   ],
   "source": [
    "## Clean up the values for future analysis ##\n",
    "\n",
    "data.groupby(data['coupon']).sum()\n",
    "\n",
    "# Clean up the values in Coupon Column\n",
    "data['coupon'] = data['coupon'].str.replace('(', '')\n",
    "data['coupon'] = data['coupon'].str.replace(')', '')\n",
    "\n",
    "## Rename coupon values, normalize the name in according to data columns: RestaurantLess20, Restaurant20to50, CarryAway, CoffeeHouse\n",
    "data['coupon'] = data['coupon'].str.replace('Restaurant<20', 'RestaurantLess20')\n",
    "data['coupon'] = data['coupon'].str.replace('Restaurant20-50', 'Restaurant20to50')\n",
    "data['coupon'] = data['coupon'].str.replace('Carry out & Take away', 'CarryAway')\n",
    "data['coupon'] = data['coupon'].str.replace('Coffee House', 'CoffeeHouse')\n",
    "\n",
    "data.groupby(data['coupon']).sum()\n",
    "\n",
    "## There are various ways we can deal with missing values ##\n",
    "\n",
    "  # 1: Remove rows with missing values\n",
    "  # data.dropna(inplace=True)\n",
    "\n",
    "  # 2: Impute missing values (e.g., using mean)\n",
    "  # data.fillna(data.mean(), inplace=True)\n",
    "\n",
    "  # 3: Create a new feature to encode missingness\n",
    "  # data['missing_feature'] = data.isnull().any(axis=1).astype(int)\n",
    "\n",
    "# Considering the volume of data in some category is alot, especially column car\n",
    "\n",
    "# Let's Impute missing values with average (e.g., using mean)\n",
    "data.fillna(data.mean(), inplace=True)\n"
   ]
  },
  {
   "cell_type": "markdown",
   "metadata": {},
   "source": [
    "4. What proportion of the total observations chose to accept the coupon? \n",
    "\n"
   ]
  },
  {
   "cell_type": "code",
   "execution_count": 6,
   "metadata": {},
   "outputs": [
    {
     "name": "stdout",
     "output_type": "stream",
     "text": [
      "Proportion of accepted coupons: 56.84%\n"
     ]
    }
   ],
   "source": [
    "# Total observations (N): The total number of instances in the dataset.\n",
    "# Accepted coupon (A)   : The number of instances where the coupon was accepted.\n",
    "\n",
    "# The proportion of accepted coupons can be expressed as:\n",
    "# Proportion of accepted coupons = A / N\n",
    "\n",
    "data.rename(columns = {'Y':'couponaccepted'}, inplace = True)\n",
    "\n",
    "# Calculate the proportion of accepted coupons\n",
    "total_observations = len(data)\n",
    "accepted_coupons = data['couponaccepted'].sum()\n",
    "proportion_accepted = accepted_coupons / total_observations\n",
    "\n",
    "print(f\"Proportion of accepted coupons: {proportion_accepted:.2%}\")\n"
   ]
  },
  {
   "cell_type": "markdown",
   "metadata": {},
   "source": [
    "5. Use a bar plot to visualize the `coupon` column."
   ]
  },
  {
   "cell_type": "code",
   "execution_count": 7,
   "metadata": {},
   "outputs": [
    {
     "data": {
      "image/png": "[encoded data removed]",
      "text/plain": [
       "<Figure size 576x432 with 1 Axes>"
      ]
     },
     "metadata": {
      "needs_background": "light"
     },
     "output_type": "display_data"
    },
    {
     "data": {
      "image/png": "[encoded data removed]",
      "text/plain": [
       "<Figure size 576x432 with 1 Axes>"
      ]
     },
     "metadata": {
      "needs_background": "light"
     },
     "output_type": "display_data"
    }
   ],
   "source": [
    "# Basic bar chart\n",
    "\n",
    "# using sns i.e seaborn\n",
    "plt.figure(figsize=(8, 6))\n",
    "sns.barplot(x='coupon', y='couponaccepted', data=data, ci=None, palette='coolwarm')\n",
    "plt.xlabel('Coupon Type')\n",
    "plt.ylabel('Coupon Accepted')\n",
    "plt.show()\n",
    "\n",
    "#------------------------------------------------------------------------------------------------#\n",
    "\n",
    "\n",
    "# Create a colored histogram with sorted coupon types and acceptance values\n",
    "plt.figure(figsize=(8, 6))\n",
    "g = sns.histplot(data=data, x='coupon', hue='couponaccepted',  palette='coolwarm',shrink=0.8,multiple='stack', stat='percent', common_norm=False)\n",
    "\n",
    "# Rotate x-axis labels by 45 degrees\n",
    "plt.xticks(rotation=45)\n",
    "\n",
    "# Add labels and title\n",
    "plt.xlabel('Coupon Type')\n",
    "plt.ylabel('Percentage')\n",
    "plt.title('Coupon Acceptance Rate Per Category')\n",
    "\n",
    "# Show the plot\n",
    "plt.show()\n"
   ]
  },
  {
   "cell_type": "markdown",
   "metadata": {},
   "source": [
    "6. Use a histogram to visualize the temperature column."
   ]
  },
  {
   "cell_type": "code",
   "execution_count": 8,
   "metadata": {},
   "outputs": [
    {
     "data": {
      "image/png": "[encoded data removed]",
      "text/plain": [
       "<Figure size 576x432 with 1 Axes>"
      ]
     },
     "metadata": {
      "needs_background": "light"
     },
     "output_type": "display_data"
    },
    {
     "data": {
      "image/png": "[encoded data removed]",
      "text/plain": [
       "<Figure size 576x432 with 1 Axes>"
      ]
     },
     "metadata": {
      "needs_background": "light"
     },
     "output_type": "display_data"
    }
   ],
   "source": [
    "# using plotly\n",
    "# Create a histogram for the 'Temperature' column\n",
    "plt.figure(figsize=(8, 6))\n",
    "plt.hist(data['temperature'], bins=20, color='skyblue', edgecolor='black')\n",
    "plt.xlabel('Temperature (°F)')\n",
    "plt.ylabel('Frequency')\n",
    "plt.title('Temperature Distribution')\n",
    "plt.grid(axis='y', linestyle='--', alpha=0.7)\n",
    "plt.show()\n",
    "\n",
    "# using SNS i.e. seaborn\n",
    "\n",
    "# Create a histogram for the 'temperature' column\n",
    "plt.figure(figsize=(8, 6))\n",
    "sns.histplot(data=data, x='temperature', bins='auto', color='skyblue', edgecolor='black', kde=True)\n",
    "plt.xlabel('Temperature')\n",
    "plt.ylabel('Frequency')\n",
    "plt.title('Temperature Distribution')\n",
    "plt.grid(axis='y', linestyle='--', alpha=0.7)\n",
    "plt.show()"
   ]
  },
  {
   "cell_type": "code",
   "execution_count": null,
   "metadata": {},
   "outputs": [],
   "source": []
  },
  {
   "cell_type": "code",
   "execution_count": null,
   "metadata": {},
   "outputs": [],
   "source": []
  },
  {
   "cell_type": "code",
   "execution_count": null,
   "metadata": {},
   "outputs": [],
   "source": []
  },
  {
   "cell_type": "code",
   "execution_count": null,
   "metadata": {},
   "outputs": [],
   "source": []
  },
  {
   "cell_type": "markdown",
   "metadata": {},
   "source": [
    "**Investigating the Bar Coupons**\n",
    "\n",
    "Now, we will lead you through an exploration of just the bar related coupons.  \n",
    "\n",
    "1. Create a new `DataFrame` that contains just the bar coupons.\n"
   ]
  },
  {
   "cell_type": "code",
   "execution_count": 9,
   "metadata": {},
   "outputs": [
    {
     "name": "stdout",
     "output_type": "stream",
     "text": [
      "           destination  passanger weather  temperature  time coupon  \\\n",
      "9      No Urgent Place     Kid(s)   Sunny           80  10AM    Bar   \n",
      "13                Home      Alone   Sunny           55   6PM    Bar   \n",
      "17                Work      Alone   Sunny           55   7AM    Bar   \n",
      "24     No Urgent Place  Friend(s)   Sunny           80  10AM    Bar   \n",
      "35                Home      Alone   Sunny           55   6PM    Bar   \n",
      "...                ...        ...     ...          ...   ...    ...   \n",
      "12663  No Urgent Place  Friend(s)   Sunny           80  10PM    Bar   \n",
      "12664  No Urgent Place  Friend(s)   Sunny           55  10PM    Bar   \n",
      "12667  No Urgent Place      Alone   Rainy           55  10AM    Bar   \n",
      "12670  No Urgent Place    Partner   Rainy           55   6PM    Bar   \n",
      "12682             Work      Alone   Snowy           30   7AM    Bar   \n",
      "\n",
      "      expiration  gender age      maritalStatus  ...  CoffeeHouse CarryAway  \\\n",
      "9             1d  Female  21  Unmarried partner  ...        never       NaN   \n",
      "13            1d  Female  21  Unmarried partner  ...        never       NaN   \n",
      "17            1d  Female  21  Unmarried partner  ...        never       NaN   \n",
      "24            1d    Male  21             Single  ...        less1       4~8   \n",
      "35            1d    Male  21             Single  ...        less1       4~8   \n",
      "...          ...     ...  ..                ...  ...          ...       ...   \n",
      "12663         1d    Male  26             Single  ...        never       1~3   \n",
      "12664         2h    Male  26             Single  ...        never       1~3   \n",
      "12667         1d    Male  26             Single  ...        never       1~3   \n",
      "12670         2h    Male  26             Single  ...        never       1~3   \n",
      "12682         1d    Male  26             Single  ...        never       1~3   \n",
      "\n",
      "      RestaurantLessThan20 Restaurant20To50 toCoupon_GEQ5min  \\\n",
      "9                      4~8              1~3                1   \n",
      "13                     4~8              1~3                1   \n",
      "17                     4~8              1~3                1   \n",
      "24                     4~8            less1                1   \n",
      "35                     4~8            less1                1   \n",
      "...                    ...              ...              ...   \n",
      "12663                  4~8              1~3                1   \n",
      "12664                  4~8              1~3                1   \n",
      "12667                  4~8              1~3                1   \n",
      "12670                  4~8              1~3                1   \n",
      "12682                  4~8              1~3                1   \n",
      "\n",
      "      toCoupon_GEQ15min toCoupon_GEQ25min direction_same direction_opp  \\\n",
      "9                     1                 0              0             1   \n",
      "13                    0                 0              1             0   \n",
      "17                    1                 1              0             1   \n",
      "24                    0                 0              0             1   \n",
      "35                    0                 0              1             0   \n",
      "...                 ...               ...            ...           ...   \n",
      "12663                 1                 0              0             1   \n",
      "12664                 1                 0              0             1   \n",
      "12667                 1                 0              0             1   \n",
      "12670                 1                 0              0             1   \n",
      "12682                 1                 1              0             1   \n",
      "\n",
      "      couponaccepted  \n",
      "9                  0  \n",
      "13                 1  \n",
      "17                 0  \n",
      "24                 1  \n",
      "35                 1  \n",
      "...              ...  \n",
      "12663              0  \n",
      "12664              0  \n",
      "12667              0  \n",
      "12670              0  \n",
      "12682              0  \n",
      "\n",
      "[2017 rows x 26 columns]\n"
     ]
    },
    {
     "data": {
      "image/png": "[encoded data removed]",
      "text/plain": [
       "<Figure size 576x432 with 1 Axes>"
      ]
     },
     "metadata": {
      "needs_background": "light"
     },
     "output_type": "display_data"
    }
   ],
   "source": [
    "# Create a new DataFrame with only the rows where the coupon is 'bar'\n",
    "bar_coupons_df = data[data['coupon'] == 'Bar'].copy()\n",
    "\n",
    "# View the new DataFrame\n",
    "print(bar_coupons_df)\n",
    "\n",
    "plt.figure(figsize=(8, 6))\n",
    "\n",
    "# Create a bar plot to visualize the distribution of acceptance values in 'Bar' coupons\n",
    "sns.countplot(x='coupon', data=bar_coupons_df,  palette='coolwarm', hue='couponaccepted')\n",
    "\n",
    "# Add labels and title\n",
    "plt.xlabel('Acceptance')\n",
    "plt.ylabel('Count')\n",
    "plt.title('Distribution of Acceptance in Bar Coupons')\n",
    "\n",
    "# Show the plot\n",
    "plt.show()"
   ]
  },
  {
   "cell_type": "markdown",
   "metadata": {},
   "source": [
    "2. What proportion of bar coupons were accepted?\n"
   ]
  },
  {
   "cell_type": "code",
   "execution_count": 10,
   "metadata": {},
   "outputs": [
    {
     "name": "stdout",
     "output_type": "stream",
     "text": [
      "Proportion of accepted bar coupons: 41.00%\n"
     ]
    }
   ],
   "source": [
    "# Calculate the proportion of accepted bar coupons\n",
    "\n",
    "total_bar_coupons = len(bar_coupons_df)\n",
    "total_bar_coupons\n",
    "\n",
    "accepted_bar_coupons = bar_coupons_df['couponaccepted'].sum()\n",
    "proportion_accepted_bar_coupons = accepted_bar_coupons / total_bar_coupons\n",
    "\n",
    "print(f\"Proportion of accepted bar coupons: {proportion_accepted_bar_coupons:.2%}\")"
   ]
  },
  {
   "cell_type": "markdown",
   "metadata": {},
   "source": [
    "3. Compare the acceptance rate between those who went to a bar 3 or fewer times a month to those who went more.\n",
    "\n",
    "bar_coupons_df['Y']\n"
   ]
  },
  {
   "cell_type": "code",
   "execution_count": 11,
   "metadata": {},
   "outputs": [
    {
     "name": "stdout",
     "output_type": "stream",
     "text": [
      "Acceptance rate for 3 or fewer bar visits: 37.07%\n",
      "Acceptance rate for more than 3 bar visits: 76.88%\n"
     ]
    }
   ],
   "source": [
    "#data.columns\n",
    "# 'destination', 'passanger', 'weather', 'temperature', 'time', 'coupon','expiration','gender', 'age', 'maritalStatus', \n",
    "# 'has_children','education', 'occupation', 'income', 'car', 'Bar', 'CoffeeHouse','CarryAway', 'RestaurantLessThan20', \n",
    "# 'Restaurant20To50','toCoupon_GEQ5min', 'toCoupon_GEQ15min', 'toCoupon_GEQ25min','direction_same', 'direction_opp', 'Y'\n",
    "\n",
    "def replaceColumnMapping(data, column_name):\n",
    "    replacement_mapping = {\n",
    "        '4~8': 6,\n",
    "        '1~3': 2,\n",
    "        'never': 0,\n",
    "        'less1': 1,\n",
    "        'gt8': 9\n",
    "    }\n",
    "\n",
    "    data[column_name] = data[column_name].replace(replacement_mapping)\n",
    "\n",
    "# Apply the replace\n",
    "replaceColumnMapping(bar_coupons_df, 'Bar')\n",
    "\n",
    "# Apply the replace\n",
    "replaceColumnMapping(data, 'Bar')\n",
    "\n",
    "# Replace NaN values with 0 in the specified columns\n",
    "bar_coupons_df['Bar'] = bar_coupons_df['Bar'].fillna(0)\n",
    "\n",
    "# Convert columns to numeric type\n",
    "bar_coupons_df['Bar'] = bar_coupons_df['Bar'].apply(pd.to_numeric, errors='coerce')\n",
    "\n",
    "# Create two DataFrames: one for <=3 bar visits and one for >3 bar visits\n",
    "bar_coupons_df.groupby(data['Bar']).sum()\n",
    "\n",
    "bar_3_or_fewer_df = bar_coupons_df[bar_coupons_df['Bar'] <= 3]\n",
    "bar_more_than_3_df = bar_coupons_df[bar_coupons_df['Bar'] > 3]\n",
    "\n",
    "#bar_3_or_fewer_df.groupby(bar_3_or_fewer_df['Bar']).sum()\n",
    "#bar_more_than_3_df.groupby(bar_more_than_3_df['Bar']).sum()\n",
    "\n",
    "# Calculate acceptance rates for each group\n",
    "acceptance_rate_3_or_fewer = bar_3_or_fewer_df['couponaccepted'].mean()\n",
    "acceptance_rate_more_than_3 = bar_more_than_3_df['couponaccepted'].mean()\n",
    "\n",
    "print(f\"Acceptance rate for 3 or fewer bar visits: {acceptance_rate_3_or_fewer:.2%}\")\n",
    "print(f\"Acceptance rate for more than 3 bar visits: {acceptance_rate_more_than_3:.2%}\")\n"
   ]
  },
  {
   "cell_type": "markdown",
   "metadata": {},
   "source": [
    "4. Compare the acceptance rate between drivers who go to a bar more than once a month and are over the age of 25 to the all others.  Is there a difference?\n"
   ]
  },
  {
   "cell_type": "code",
   "execution_count": 12,
   "metadata": {},
   "outputs": [
    {
     "name": "stdout",
     "output_type": "stream",
     "text": [
      "Acceptance rate for Drivers who go to bar more than Once and > 25 : 62.14%\n",
      "Acceptance rate for Rest: 58.11%\n"
     ]
    }
   ],
   "source": [
    "data.groupby(data['Bar']).sum()\n",
    "\n",
    "morethan1_above25 = data[(data['Bar'] > 1) & (data['age'] > '25')]\n",
    "other = data[~(data['Bar'] > 1) & ~(data['age'] > '25')] \n",
    "\n",
    "# Calculate acceptance rates for each group\n",
    "acceptance_rate_morethan1_above25 = morethan1_above25['couponaccepted'].mean()\n",
    "acceptance_rate_other = other['couponaccepted'].mean()\n",
    "\n",
    "print(f\"Acceptance rate for Drivers who go to bar more than Once and > 25 : {acceptance_rate_morethan1_above25:.2%}\")\n",
    "print(f\"Acceptance rate for Rest: {acceptance_rate_other:.2%}\")\n"
   ]
  },
  {
   "cell_type": "code",
   "execution_count": 13,
   "metadata": {},
   "outputs": [],
   "source": [
    "#Analysis : yes \n",
    "# drivers who go to a bar more than once a month and are > 25 years of age are little higher in percentage i.e. 62.14% than\n",
    "# rest of the drivers which are 58.11%"
   ]
  },
  {
   "cell_type": "markdown",
   "metadata": {},
   "source": [
    "5. Use the same process to compare the acceptance rate between drivers who go to bars more than once a month and had passengers that were not a kid and had occupations other than farming, fishing, or forestry. \n"
   ]
  },
  {
   "cell_type": "code",
   "execution_count": 14,
   "metadata": {},
   "outputs": [
    {
     "name": "stdout",
     "output_type": "stream",
     "text": [
      "Acceptance rate of coupons for drivers who go to bars more than once a month and had passengers that were not a kid and had occupations other than farming, fishing, or forestry : 62.21%\n"
     ]
    }
   ],
   "source": [
    "data.groupby(data['passanger']).sum()\n",
    "\n",
    "\n",
    "morethan1_nokid_nooccupfff = data[(data['Bar'] > 1) & (data['passanger'] != 'kid') & ~data['occupation'].isin(['farming', 'fishing', 'forestry'])]\n",
    "\n",
    "# Calculate acceptance rates for each group\n",
    "acceptance_rate_morethan1_nokid_nooccupfff = morethan1_nokid_nooccupfff['couponaccepted'].mean()\n",
    "\n",
    "print(f\"Acceptance rate of coupons for drivers who go to bars more than once a month and had passengers that were not a kid and had occupations other than farming, fishing, or forestry : {acceptance_rate_morethan1_nokid_nooccupfff:.2%}\")\n"
   ]
  },
  {
   "cell_type": "markdown",
   "metadata": {},
   "source": [
    "6. Compare the acceptance rates between those drivers who:\n",
    "\n",
    "- go to bars more than once a month, had passengers that were not a kid, and were not widowed *OR*\n",
    "- go to bars more than once a month and are under the age of 30 *OR*\n",
    "- go to cheap restaurants more than 4 times a month and income is less than 50K. \n",
    "\n"
   ]
  },
  {
   "cell_type": "code",
   "execution_count": 15,
   "metadata": {},
   "outputs": [
    {
     "name": "stdout",
     "output_type": "stream",
     "text": [
      "Acceptance rate for Group 1: 62.21%\n",
      "Acceptance rate for Group 2: 62.85%\n",
      "Acceptance rate for Group 3: 55.62%\n"
     ]
    }
   ],
   "source": [
    "# Create three DataFrames for each group\n",
    "\n",
    "\n",
    "morethan1_nokid_notwidow_df = data[(data['Bar'] > 1) & (data['passanger'] != 'kid') & (data['maritalStatus'] != 'widowed')]\n",
    "morethan1_under30_df = data[(data['Bar'] > 1) & (data['age'] < '30')]\n",
    "resta20to40_incless50k_df = data[(data['Restaurant20To50'] > '4') & (data['income'] < '50000')]\n",
    "\n",
    "# Calculate acceptance rates for each group\n",
    "acceptance_rate_morethan1_nokid_notwidow_df = morethan1_nokid_notwidow_df['couponaccepted'].mean()\n",
    "acceptance_rate_morethan1_under30_df = morethan1_under30_df['couponaccepted'].mean()\n",
    "acceptance_rate_20to40resta_incless50k_df = resta20to40_incless50k_df['couponaccepted'].mean()\n",
    "\n",
    "print(f\"Acceptance rate for Group 1: {acceptance_rate_morethan1_nokid_notwidow_df:.2%}\")\n",
    "print(f\"Acceptance rate for Group 2: {acceptance_rate_morethan1_under30_df:.2%}\")\n",
    "print(f\"Acceptance rate for Group 3: {acceptance_rate_20to40resta_incless50k_df:.2%}\")"
   ]
  },
  {
   "cell_type": "markdown",
   "metadata": {},
   "source": [
    "7.  Based on these observations, what do you hypothesize about drivers who accepted the bar coupons?"
   ]
  },
  {
   "cell_type": "code",
   "execution_count": 16,
   "metadata": {},
   "outputs": [],
   "source": [
    "# Hypothesis \n",
    "# Drivers who go to bars more than once a month, had passengers that were not a kid, and were not widowed:\n",
    "# The acceptance rate for this group is approximately 62.21%.\n",
    "\n",
    "# Drivers who go to bars more than once a month and are under the age of 30:\n",
    "# The acceptance rate for this group is approximately 62.85%.\n",
    "\n",
    "# Drivers who go to cheap restaurants more than 4 times a month and have an income less than 50K:\n",
    "# The acceptance rate for this group is approximately 55.62%.\n",
    "\n",
    "#Result : Interestingly, the demonstrated track record of going to bars seems to be more predictive of \n",
    "#         accepting bar coupons compared to other factors, especially age group which who is younger (less than 30 years) or \n",
    "#         drivers with no kids and are not widowed"
   ]
  },
  {
   "cell_type": "code",
   "execution_count": 17,
   "metadata": {},
   "outputs": [
    {
     "name": "stdout",
     "output_type": "stream",
     "text": [
      "<class 'pandas.core.frame.DataFrame'>\n",
      "RangeIndex: 12684 entries, 0 to 12683\n",
      "Data columns (total 26 columns):\n",
      " #   Column                Non-Null Count  Dtype  \n",
      "---  ------                --------------  -----  \n",
      " 0   destination           12684 non-null  object \n",
      " 1   passanger             12684 non-null  object \n",
      " 2   weather               12684 non-null  object \n",
      " 3   temperature           12684 non-null  int64  \n",
      " 4   time                  12684 non-null  object \n",
      " 5   coupon                12684 non-null  object \n",
      " 6   expiration            12684 non-null  object \n",
      " 7   gender                12684 non-null  object \n",
      " 8   age                   12684 non-null  object \n",
      " 9   maritalStatus         12684 non-null  object \n",
      " 10  has_children          12684 non-null  int64  \n",
      " 11  education             12684 non-null  object \n",
      " 12  occupation            12684 non-null  object \n",
      " 13  income                12684 non-null  object \n",
      " 14  car                   108 non-null    object \n",
      " 15  Bar                   12577 non-null  float64\n",
      " 16  CoffeeHouse           12467 non-null  object \n",
      " 17  CarryAway             12533 non-null  object \n",
      " 18  RestaurantLessThan20  12554 non-null  object \n",
      " 19  Restaurant20To50      12495 non-null  object \n",
      " 20  toCoupon_GEQ5min      12684 non-null  int64  \n",
      " 21  toCoupon_GEQ15min     12684 non-null  int64  \n",
      " 22  toCoupon_GEQ25min     12684 non-null  int64  \n",
      " 23  direction_same        12684 non-null  int64  \n",
      " 24  direction_opp         12684 non-null  int64  \n",
      " 25  couponaccepted        12684 non-null  int64  \n",
      "dtypes: float64(1), int64(8), object(17)\n",
      "memory usage: 2.5+ MB\n",
      "None\n",
      "destination                 0\n",
      "passanger                   0\n",
      "weather                     0\n",
      "temperature                 0\n",
      "time                        0\n",
      "coupon                      0\n",
      "expiration                  0\n",
      "gender                      0\n",
      "age                         0\n",
      "maritalStatus               0\n",
      "has_children                0\n",
      "education                   0\n",
      "occupation                  0\n",
      "income                      0\n",
      "car                     12576\n",
      "Bar                       107\n",
      "CoffeeHouse               217\n",
      "CarryAway                 151\n",
      "RestaurantLessThan20      130\n",
      "Restaurant20To50          189\n",
      "toCoupon_GEQ5min            0\n",
      "toCoupon_GEQ15min           0\n",
      "toCoupon_GEQ25min           0\n",
      "direction_same              0\n",
      "direction_opp               0\n",
      "couponaccepted              0\n",
      "dtype: int64\n"
     ]
    }
   ],
   "source": [
    "# Explore the dataset\n",
    "print(data.info())\n",
    "\n",
    "# Check for missing values\n",
    "print(data.isnull().sum())"
   ]
  },
  {
   "cell_type": "markdown",
   "metadata": {},
   "source": [
    "### Independent Investigation\n",
    "\n",
    "Using the bar coupon example as motivation, you are to explore one of the other coupon groups and try to determine the characteristics of passengers who accept the coupons.  "
   ]
  },
  {
   "cell_type": "code",
   "execution_count": 18,
   "metadata": {},
   "outputs": [
    {
     "name": "stdout",
     "output_type": "stream",
     "text": [
      "Scenario 1: Early Birds\n",
      "       passanger time\n",
      "12        Kid(s)  6PM\n",
      "15         Alone  6PM\n",
      "16         Alone  7AM\n",
      "21         Alone  7AM\n",
      "30     Friend(s)  6PM\n",
      "...          ...  ...\n",
      "12586      Alone  7AM\n",
      "12608      Alone  7AM\n",
      "12631      Alone  7AM\n",
      "12659      Alone  7AM\n",
      "12681      Alone  7AM\n",
      "\n",
      "[2006 rows x 2 columns]\n"
     ]
    }
   ],
   "source": [
    "# I choose to explore “Coffee Lovers’\" who will use coupons \n",
    "\n",
    "data.groupby(data['coupon']).sum()\n",
    "\n",
    "# Create a DataFrame from the sample data\n",
    "df = pd.DataFrame(data)\n",
    "\n",
    "# Explore characteristics of passengers who accept coffee coupons\n",
    "coffee_lovers = df[df[\"coupon\"] == \"CoffeeHouse\"]\n",
    "           \n",
    "\n",
    "# Scenario 1: Early Birds\n",
    "early_birds = coffee_lovers[(coffee_lovers[\"time\"] >= \"6AM\") & (coffee_lovers[\"time\"] <= \"8AM\")]\n",
    "\n",
    "# Print the results\n",
    "print(\"Scenario 1: Early Birds\")\n",
    "print(early_birds[[\"passanger\", \"time\"]])\n"
   ]
  },
  {
   "cell_type": "code",
   "execution_count": 19,
   "metadata": {},
   "outputs": [
    {
     "data": {
      "image/png": "[encoded data removed]",
      "text/plain": [
       "<Figure size 576x432 with 1 Axes>"
      ]
     },
     "metadata": {
      "needs_background": "light"
     },
     "output_type": "display_data"
    }
   ],
   "source": [
    "# Create a countplot for coffee pickups by hour\n",
    "plt.figure(figsize=(8, 6))\n",
    "sns.countplot(data=early_birds, x=\"time\", palette=\"Set2\")\n",
    "plt.title(\"Coffee Pickups by Hour (Early Birds)\")\n",
    "plt.xlabel(\"Pickup Time\")\n",
    "plt.ylabel(\"Count\")\n",
    "plt.xticks(rotation=45)\n",
    "plt.show()"
   ]
  },
  {
   "cell_type": "code",
   "execution_count": 20,
   "metadata": {},
   "outputs": [],
   "source": [
    "# Analysis 1 :  6 Pm and 7 AM are most favorible times for drivers to pick coffee,\n",
    "#so those two times will highly likey the coupons will be used most"
   ]
  },
  {
   "cell_type": "code",
   "execution_count": 21,
   "metadata": {},
   "outputs": [],
   "source": [
    "# Scenario 2: Coffee Lover among genders\n",
    "df_gender = coffee_lovers.groupby(\"gender\")\n"
   ]
  },
  {
   "cell_type": "code",
   "execution_count": 22,
   "metadata": {},
   "outputs": [
    {
     "data": {
      "image/png": "[encoded data removed]",
      "text/plain": [
       "<Figure size 432x432 with 1 Axes>"
      ]
     },
     "metadata": {},
     "output_type": "display_data"
    }
   ],
   "source": [
    "# Coffee Lover among genders and distribution along with passangers\n",
    "\n",
    "plt.figure(figsize=(6, 6))\n",
    "passanger_counts = df_gender[\"passanger\"].value_counts().dropna()\n",
    "plt.pie(passanger_counts, labels=passanger_counts.index, autopct=\"%1.1f%%\", colors=sns.color_palette(\"pastel\"))\n",
    "plt.title(\"Proportion of Gender/Passangers among Coffee Lovers\")\n",
    "plt.show()"
   ]
  },
  {
   "cell_type": "code",
   "execution_count": 23,
   "metadata": {},
   "outputs": [
    {
     "data": {
      "image/png": "[encoded data removed]",
      "text/plain": [
       "<Figure size 432x288 with 1 Axes>"
      ]
     },
     "metadata": {
      "needs_background": "light"
     },
     "output_type": "display_data"
    }
   ],
   "source": [
    "# Countplot for gender distribution with coupon acceptance\n",
    "sns.countplot(x='passanger', data=data, palette='Set2', hue_order=['Male', 'Female'], hue='gender')\n",
    "\n",
    "# Set plot details\n",
    "plt.title(\"Gender Distribution by Passenger Categories and Coupon Acceptance\")\n",
    "plt.xlabel('Passenger Categories')\n",
    "plt.ylabel('Count')\n",
    "\n",
    "# Improve readability of x-axis labels\n",
    "plt.xticks(rotation=45, ha='right')\n",
    "\n",
    "# Add legend\n",
    "plt.legend(title='Gender')\n",
    "\n",
    "# Show the plot\n",
    "plt.show()"
   ]
  },
  {
   "cell_type": "code",
   "execution_count": 24,
   "metadata": {},
   "outputs": [],
   "source": [
    "#Analysis 2:\n",
    "# 1. Both Male and female who drive alone, will tend to pick coffee and will tend to use coupons\n",
    "# 2. Both Male and females when driving with friends has a probability of picking coffee to be 15% and will second highly likely to use coupons\n",
    "# 3 Drivers with their partners or kids tend to pick coffee least and most probably will not use coupons \n"
   ]
  },
  {
   "cell_type": "code",
   "execution_count": 25,
   "metadata": {},
   "outputs": [],
   "source": [
    "#Next details and recommendations:\n",
    "# Compnay should target different audience to collect across different genders , especially who drive with partners\n",
    "\n",
    "# Additional Variables:\n",
    " \n",
    "  # Location Impact Analysis: Investigate how coupon acceptance rates vary across different regions. Consider factors like local demographics, economic conditions, and cultural preferences. Analyze data to identify patterns and tailor coupon offerings accordingly.\n",
    "  # Time-Based Analysis: Examine acceptance rates based on the time of day or day of the week. Are there specific hours or days when users are more likely to redeem coupons? Adjust your timing strategies accordingly.\n",
    "\n",
    "# Machine Learning Models:\n",
    " \n",
    " # Data Splitting: Divide your dataset into training and testing sets. This allows you to build and evaluate machine learning models effectively.\n",
    " # Algorithm Selection: Explore algorithms such as logistic regression, decision trees, or ensemble methods. Train these models on the training data and evaluate their performance using metrics like accuracy, precision, recall, and F1-score.\n",
    "\n",
    "#Segmentation Analysis:\n",
    "\n",
    " # Clustering Algorithms: Utilize clustering techniques (e.g., k-means) to segment your user base. Identify meaningful groups based on driver-passenger behavior, preferences, or demographics. Customize marketing strategies for each segment.\n",
    "\n",
    "# Feedback Mechanism:\n",
    "\n",
    " # User Opinions: Implement a feedback form or rating system within your app. Collect qualitative feedback from users regarding coupon offerings. Use this information to identify areas for improvement and gain insights into user preferences.\n",
    "\n",
    "# Dynamic Coupon Strategy:\n",
    "\n",
    " # Real-Time Factors: Develop a dynamic pricing model for coupons. Consider real-time factors such as weather conditions, local events, or demand fluctuations. Machine learning models can predict optimal coupon values based on these factors.\n",
    "\n",
    "# Collaborations and Partnerships:\n",
    "\n",
    " # Local Business Collaborations: Partner with local businesses or events. Create joint promotions that benefit both parties. Cross-promote coupons to increase visibility and attract a wider audience.\n",
    "\n",
    "#User Engagement Campaigns:\n",
    " \n",
    " # Education Campaigns: Launch targeted campaigns to educate users about the benefits of accepting and using coupons. Highlight cost savings, exclusive discounts, and other incentives.\n",
    " # Loyalty Points: Offer additional rewards, such as loyalty points, to encourage consistent coupon acceptance.\n",
    "\n",
    "# A/B Testing:\n",
    " # Experimentation: Design A/B tests with variations in coupon elements. Test different features (e.g., discount percentages, expiration dates, visuals) and measure their impact on acceptance rates. Use data-driven insights to refine your coupon design.\n",
    "\n",
    "# Continuous Monitoring:\n",
    " # KPI Tracking: Set up a monitoring system to track key performance indicators (KPIs) related to coupon acceptance. Regularly review metrics such as redemption rates, user engagement, and revenue generated through coupons."
   ]
  },
  {
   "cell_type": "code",
   "execution_count": null,
   "metadata": {},
   "outputs": [],
   "source": []
  },
  {
   "cell_type": "code",
   "execution_count": null,
   "metadata": {},
   "outputs": [],
   "source": []
  }
 ],
 "metadata": {
  "kernelspec": {
   "display_name": "Python 3 (ipykernel)",
   "language": "python",
   "name": "python3"
  },
  "language_info": {
   "codemirror_mode": {
    "name": "ipython",
    "version": 3
   },
   "file_extension": ".py",
   "mimetype": "text/x-python",
   "name": "python",
   "nbconvert_exporter": "python",
   "pygments_lexer": "ipython3",
   "version": "3.9.7"
  },
  "widgets": {
   "application/vnd.jupyter.widget-state+json": {
    "state": {},
    "version_major": 2,
    "version_minor": 0
   }
  }
 },
 "nbformat": 4,
 "nbformat_minor": 4
}
